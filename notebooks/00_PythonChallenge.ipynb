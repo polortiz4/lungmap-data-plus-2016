{
 "cells": [
  {
   "cell_type": "markdown",
   "metadata": {},
   "source": [
    "Instructions\n",
    "----\n",
    "\n",
    "Some simple exercises to quickly get you up to speed with basic Python programming in the Jupyter ntoebook.\n",
    "\n",
    "- Exercise 1: Use of control structures \n",
    "- Exercise 2: Text processing and use of dictionaries\n",
    "- Exercise 3: Use of `numpy` and indexing\n",
    "- Exercise 4: Working with web resources and images"
   ]
  },
  {
   "cell_type": "markdown",
   "metadata": {},
   "source": [
    "**1.** Write a program to solve the FizzBuzz problem."
   ]
  },
  {
   "cell_type": "code",
   "execution_count": null,
   "metadata": {
    "collapsed": true
   },
   "outputs": [],
   "source": [
    "\n",
    "\n",
    "\n"
   ]
  },
  {
   "cell_type": "markdown",
   "metadata": {},
   "source": [
    "**2.** Find the top 5 most frequently used words in the passage below. Remove punctuation and ignore case."
   ]
  },
  {
   "cell_type": "code",
   "execution_count": 11,
   "metadata": {
    "collapsed": false
   },
   "outputs": [],
   "source": [
    "text = \"\"\"Different divisors can be used in place of, or in addition to, 3 and 5, and different words or gestures can replace \"fizz\" or \"buzz\". For example, in Australia a variant based on the game of cricket is played. In this variant, the special numbers are 4 and 6, which are replaced with the cricket umpiring gestures for their respective scoring plays. A common version of the game is also called \"7 Boom\". The players replace every number divisible by 7 or containing the digit 7 with \"boom\".[citation needed]\n",
    "\n",
    "Instead of replacing numbers that have 3 or 5 as a factor, the game can be played by replacing numbers containing the digit 3 or 5 with \"fizz\" or \"buzz\".\n",
    "\n",
    "1, 2, Fizz, 4, Buzz, 6, 7, 8, 9, 10, 11, 12, Fizz, 14, Buzz, 16, 17, 18, 19, 20, 21, 22, Fizz, 24, Buzz, 26, 27, 28, 29, Fizz, Fizz, Fizz, Fizz, Fizz, Fizz Buzz, Fizz, Fizz, Fizz, Fizz, 40, 41, 42, Fizz, 44, Buzz, ...\n",
    "\n",
    "In these variations, sometimes only the actual digit is replaced, so 23 becomes \"twenty-fizz\" and 50 is \"buzzty\". This variation can be combined with the original to form an even more challenging sequence:\n",
    "\n",
    "1, 2, Fizz, 4, Buzz, Fizz, 7, 8, Fizz, Buzz, 11, Fizz, Fizz, 14, Fizz Buzz, 16, 17, Fizz, 19, Buzz, Fizz, 22, Fizz, Fizz, Buzz, 26, Fizz, 28, 29, Fizz Buzz, Fizz, Fizz, Fizz, Fizz, Fizz, Fizz Buzz, Fizz, Fizz, Fizz, Fizz, Buzz, 41, Fizz, Fizz, 44, Fizz Buzz, ...\n",
    "\n",
    "The game can be played in a mathematical base other than 10. For example, playing in base 5 would proceed as follows:\n",
    "\n",
    "1, 2, Fizz, 4, Buzz, Fizz, 12, 13, Fizz, Buzz, 21, Fizz, 23, 24, Fizz Buzz, 31, 32, Fizz, 34, Buzz, Fizz, ...\n",
    "\n",
    "More challenging variation has the direction of play change on Fizz or Buzz, but not on Fizz-Buzz. For certain sequences, this makes the action bounce between 2 or 3 players and causes misplays when it breaks out. The 3/7 version of the game has a complex sequence between 12 and 18, for example. A New Jersey variation is just to say buzz on prime numbers and switch directions. The reversal of direction may be optional.\"\"\"\n",
    "\n",
    "\n",
    "\n"
   ]
  },
  {
   "cell_type": "markdown",
   "metadata": {},
   "source": [
    "**3.** Generate 1000 random numbers from a normal distribution with mean = 10 and standard deviation = 2. Plot a histogram of the middle 500 of these numbers (i.e. from position 250 to 750), skipping every other number (So the histogram is only for 250 numbers)."
   ]
  },
  {
   "cell_type": "code",
   "execution_count": null,
   "metadata": {
    "collapsed": true
   },
   "outputs": [],
   "source": [
    "\n",
    "\n",
    "\n"
   ]
  },
  {
   "cell_type": "markdown",
   "metadata": {},
   "source": [
    "**4.** Write Python code to download the image of a [ladybug](http://cdn.orkin.com/images/beetles/asian-beetle_720x630.jpg). Display it in the notebook using the `imshow` function from `matplotlib`."
   ]
  },
  {
   "cell_type": "code",
   "execution_count": null,
   "metadata": {
    "collapsed": false
   },
   "outputs": [],
   "source": [
    "\n",
    "\n",
    "\n"
   ]
  }
 ],
 "metadata": {
  "kernelspec": {
   "display_name": "Python 3",
   "language": "python",
   "name": "python3"
  },
  "language_info": {
   "codemirror_mode": {
    "name": "ipython",
    "version": 3
   },
   "file_extension": ".py",
   "mimetype": "text/x-python",
   "name": "python",
   "nbconvert_exporter": "python",
   "pygments_lexer": "ipython3",
   "version": "3.5.1"
  }
 },
 "nbformat": 4,
 "nbformat_minor": 0
}

#I'm adding comments to test the branch stuff
